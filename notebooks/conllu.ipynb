{
 "cells": [
  {
   "cell_type": "code",
   "execution_count": 1,
   "id": "5ec069e3",
   "metadata": {},
   "outputs": [
    {
     "data": {
      "text/html": [
       "<style>.container { width:95% !important; }</style>"
      ],
      "text/plain": [
       "<IPython.core.display.HTML object>"
      ]
     },
     "metadata": {},
     "output_type": "display_data"
    }
   ],
   "source": [
    "from IPython.core.display import display, HTML, Image\n",
    "display(HTML(\"<style>.container { width:95% !important; }</style>\"))\n",
    "%config IPCompleter.use_jedi=False"
   ]
  },
  {
   "cell_type": "code",
   "execution_count": 99,
   "id": "ad28b0de",
   "metadata": {},
   "outputs": [],
   "source": [
    "import requests\n",
    "import pandas as pd\n",
    "from itertools import chain"
   ]
  },
  {
   "cell_type": "code",
   "execution_count": 100,
   "id": "2caa4e6c",
   "metadata": {},
   "outputs": [],
   "source": [
    "FIELDS = ['ID', 'FORM', 'LEMMA', 'UPOS', 'XPOS', 'FEATS', 'HEAD', 'DEPREL', 'DEPS', 'MISC']\n",
    "REPO = 'https://github.com/UniversalDependencies/UD_French-ParTUT' #TODO: Pick a repo at random that starts with UD\n",
    "TEST_CONLLU = 'https://raw.githubusercontent.com/UniversalDependencies/UD_French-ParTUT/master/fr_partut-ud-test.conllu'\n",
    "DEV_CONLLU = 'https://raw.githubusercontent.com/UniversalDependencies/UD_French-ParTUT/master/fr_partut-ud-dev.conllu'\n",
    "TRAIN_CONLLU = 'https://raw.githubusercontent.com/UniversalDependencies/UD_French-ParTUT/master/fr_partut-ud-train.conllu'"
   ]
  },
  {
   "cell_type": "code",
   "execution_count": 101,
   "id": "1f4696fb",
   "metadata": {},
   "outputs": [
    {
     "name": "stdout",
     "output_type": "stream",
     "text": [
      "CPU times: user 49 ms, sys: 4.7 ms, total: 53.7 ms\n",
      "Wall time: 122 ms\n"
     ]
    }
   ],
   "source": [
    "%%time\n",
    "response = requests.get(TEST_CONLLU)\n",
    "data = response.text\n",
    "sentences = [sentence.split('\\n') for sentence in data.split('\\n\\n')[:-1]]\n",
    "\n",
    "sentences_data = [[e.split('\\t') for e in sentence if not e.startswith('#')] for sentence in sentences]\n",
    "sentences_metadata = [[e.split('# ')[-1] for e in sentence if e.startswith('#')] for sentence in sentences]\n",
    "sentences_metadata = [[e.split(' = ') for e in sentence] for sentence in sentences_metadata]\n",
    "\n",
    "data_dicts = [[{a:b for a,b in zip(FIELDS, token)} for token in sentence] for sentence in sentences_data]\n",
    "metadata_dicts = [dict(item) for item in sentences_metadata]\n",
    "\n",
    "combined_dicts = [[{**d, **metadata} for d in data] for data, metadata in zip(data_dicts, metadata_dicts)]\n",
    "\n",
    "flattened = list(chain.from_iterable(combined_dicts))"
   ]
  }
 ],
 "metadata": {
  "kernelspec": {
   "display_name": "Python 3",
   "language": "python",
   "name": "python3"
  },
  "language_info": {
   "codemirror_mode": {
    "name": "ipython",
    "version": 3
   },
   "file_extension": ".py",
   "mimetype": "text/x-python",
   "name": "python",
   "nbconvert_exporter": "python",
   "pygments_lexer": "ipython3",
   "version": "3.9.2"
  }
 },
 "nbformat": 4,
 "nbformat_minor": 5
}

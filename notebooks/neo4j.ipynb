{
 "cells": [
  {
   "cell_type": "code",
   "execution_count": 1,
   "id": "5dcd08cf",
   "metadata": {},
   "outputs": [
    {
     "data": {
      "text/html": [
       "<style>.container { width:95% !important; }</style>"
      ],
      "text/plain": [
       "<IPython.core.display.HTML object>"
      ]
     },
     "metadata": {},
     "output_type": "display_data"
    }
   ],
   "source": [
    "from IPython.core.display import display, HTML, Image\n",
    "display(HTML(\"<style>.container { width:95% !important; }</style>\"))\n",
    "%config IPCompleter.use_jedi=False"
   ]
  },
  {
   "cell_type": "code",
   "execution_count": 9,
   "id": "63736d9b",
   "metadata": {},
   "outputs": [],
   "source": [
    "from py2neo import Graph, Node, Relationship\n",
    "import networkx as nx\n",
    "import requests\n",
    "import pandas as pd\n",
    "from itertools import chain"
   ]
  },
  {
   "cell_type": "code",
   "execution_count": 5,
   "id": "6353f23c",
   "metadata": {},
   "outputs": [],
   "source": [
    "graph = Graph(\"bolt://linguistic-annotation_neo4j_1:7687/data/db\", auth=(\"neo4j\", \"1234\"))"
   ]
  },
  {
   "cell_type": "code",
   "execution_count": 6,
   "id": "27f7bf3e",
   "metadata": {},
   "outputs": [],
   "source": [
    "FIELDS = ['ID', 'FORM', 'LEMMA', 'UPOS', 'XPOS', 'FEATS', 'HEAD', 'DEPREL', 'DEPS', 'MISC']\n",
    "REPO = 'https://github.com/UniversalDependencies/UD_French-ParTUT' #TODO: Pick a repo at random that starts with UD\n",
    "TEST_CONLLU = 'https://raw.githubusercontent.com/UniversalDependencies/UD_French-ParTUT/master/fr_partut-ud-test.conllu'\n",
    "DEV_CONLLU = 'https://raw.githubusercontent.com/UniversalDependencies/UD_French-ParTUT/master/fr_partut-ud-dev.conllu'\n",
    "TRAIN_CONLLU = 'https://raw.githubusercontent.com/UniversalDependencies/UD_French-ParTUT/master/fr_partut-ud-train.conllu'"
   ]
  },
  {
   "cell_type": "code",
   "execution_count": 40,
   "id": "2321fb50",
   "metadata": {},
   "outputs": [
    {
     "name": "stdout",
     "output_type": "stream",
     "text": [
      "CPU times: user 47.7 ms, sys: 1.81 ms, total: 49.5 ms\n",
      "Wall time: 130 ms\n"
     ]
    }
   ],
   "source": [
    "%%time\n",
    "response = requests.get(TEST_CONLLU)\n",
    "data = response.text\n",
    "sentences = [sentence.split('\\n') for sentence in data.split('\\n\\n')[:-1]]\n",
    "\n",
    "sentences_data = [[e.split('\\t') for e in sentence if not e.startswith('#')] for sentence in sentences]\n",
    "sentences_metadata = [[e.split('# ')[-1] for e in sentence if e.startswith('#')] for sentence in sentences]\n",
    "sentences_metadata = [[e.split(' = ') for e in sentence] for sentence in sentences_metadata]\n",
    "\n",
    "data_dicts = [[{a:b for a,b in zip(FIELDS, token)} for token in sentence] for sentence in sentences_data]\n",
    "# metadata_dicts = [dict(item) for item in sentences_metadata]\n",
    "\n",
    "dataset = [{'sentence_id': m[0][1], 'sentence': m[1][1], 'tokens': d} for d,m in zip(data_dicts, sentences_metadata)]"
   ]
  },
  {
   "cell_type": "code",
   "execution_count": 42,
   "id": "4ff97c2a",
   "metadata": {},
   "outputs": [],
   "source": [
    "sentence = dataset[0]"
   ]
  },
  {
   "cell_type": "code",
   "execution_count": 45,
   "id": "d528f640",
   "metadata": {
    "scrolled": false
   },
   "outputs": [
    {
     "data": {
      "text/plain": [
       "[{'ID': '1',\n",
       "  'FORM': 'Paternité',\n",
       "  'LEMMA': 'paternité',\n",
       "  'UPOS': 'NOUN',\n",
       "  'XPOS': 'S',\n",
       "  'FEATS': 'Gender=Fem|Number=Sing',\n",
       "  'HEAD': '0',\n",
       "  'DEPREL': 'root',\n",
       "  'DEPS': '_',\n",
       "  'MISC': 'SpaceAfter=No'},\n",
       " {'ID': '2',\n",
       "  'FORM': '-',\n",
       "  'LEMMA': '-',\n",
       "  'UPOS': 'PUNCT',\n",
       "  'XPOS': 'FF',\n",
       "  'FEATS': '_',\n",
       "  'HEAD': '1',\n",
       "  'DEPREL': 'punct',\n",
       "  'DEPS': '_',\n",
       "  'MISC': 'SpaceAfter=No'},\n",
       " {'ID': '3',\n",
       "  'FORM': 'Partage',\n",
       "  'LEMMA': 'partage',\n",
       "  'UPOS': 'NOUN',\n",
       "  'XPOS': 'S',\n",
       "  'FEATS': 'Gender=Masc|Number=Sing',\n",
       "  'HEAD': '1',\n",
       "  'DEPREL': 'flat',\n",
       "  'DEPS': '_',\n",
       "  'MISC': '_'},\n",
       " {'ID': '4-5',\n",
       "  'FORM': 'des',\n",
       "  'LEMMA': '_',\n",
       "  'UPOS': '_',\n",
       "  'XPOS': '_',\n",
       "  'FEATS': '_',\n",
       "  'HEAD': '_',\n",
       "  'DEPREL': '_',\n",
       "  'DEPS': '_',\n",
       "  'MISC': '_'},\n",
       " {'ID': '4',\n",
       "  'FORM': 'de',\n",
       "  'LEMMA': 'de',\n",
       "  'UPOS': 'ADP',\n",
       "  'XPOS': 'E',\n",
       "  'FEATS': '_',\n",
       "  'HEAD': '6',\n",
       "  'DEPREL': 'case',\n",
       "  'DEPS': '_',\n",
       "  'MISC': '_'},\n",
       " {'ID': '5',\n",
       "  'FORM': 'les',\n",
       "  'LEMMA': 'le',\n",
       "  'UPOS': 'DET',\n",
       "  'XPOS': 'RD',\n",
       "  'FEATS': 'Definite=Def|Number=Plur|PronType=Art',\n",
       "  'HEAD': '6',\n",
       "  'DEPREL': 'det',\n",
       "  'DEPS': '_',\n",
       "  'MISC': '_'},\n",
       " {'ID': '6',\n",
       "  'FORM': 'conditions',\n",
       "  'LEMMA': 'condition',\n",
       "  'UPOS': 'NOUN',\n",
       "  'XPOS': 'S',\n",
       "  'FEATS': 'Gender=Fem|Number=Sing',\n",
       "  'HEAD': '3',\n",
       "  'DEPREL': 'nmod',\n",
       "  'DEPS': '_',\n",
       "  'MISC': '_'},\n",
       " {'ID': '7',\n",
       "  'FORM': 'initiales',\n",
       "  'LEMMA': 'initiale',\n",
       "  'UPOS': 'ADJ',\n",
       "  'XPOS': 'A',\n",
       "  'FEATS': 'Number=Plur',\n",
       "  'HEAD': '6',\n",
       "  'DEPREL': 'amod',\n",
       "  'DEPS': '_',\n",
       "  'MISC': '_'},\n",
       " {'ID': '8',\n",
       "  'FORM': 'à',\n",
       "  'LEMMA': 'à',\n",
       "  'UPOS': 'ADP',\n",
       "  'XPOS': 'E',\n",
       "  'FEATS': '_',\n",
       "  'HEAD': '10',\n",
       "  'DEPREL': 'case',\n",
       "  'DEPS': '_',\n",
       "  'MISC': '_'},\n",
       " {'ID': '9',\n",
       "  'FORM': \"l'\",\n",
       "  'LEMMA': 'le',\n",
       "  'UPOS': 'DET',\n",
       "  'XPOS': 'RD',\n",
       "  'FEATS': 'Definite=Def|Number=Sing|PronType=Art',\n",
       "  'HEAD': '10',\n",
       "  'DEPREL': 'det',\n",
       "  'DEPS': '_',\n",
       "  'MISC': 'SpaceAfter=No'},\n",
       " {'ID': '10',\n",
       "  'FORM': 'identique',\n",
       "  'LEMMA': 'identique',\n",
       "  'UPOS': 'ADJ',\n",
       "  'XPOS': 'A',\n",
       "  'FEATS': 'Number=Sing',\n",
       "  'HEAD': '6',\n",
       "  'DEPREL': 'nmod',\n",
       "  'DEPS': '_',\n",
       "  'MISC': '_'},\n",
       " {'ID': '11',\n",
       "  'FORM': '2.0',\n",
       "  'LEMMA': '2.0',\n",
       "  'UPOS': 'NUM',\n",
       "  'XPOS': 'N',\n",
       "  'FEATS': 'NumType=Card',\n",
       "  'HEAD': '1',\n",
       "  'DEPREL': 'nummod',\n",
       "  'DEPS': '_',\n",
       "  'MISC': 'SpaceAfter=No'},\n",
       " {'ID': '12',\n",
       "  'FORM': '.',\n",
       "  'LEMMA': '.',\n",
       "  'UPOS': 'PUNCT',\n",
       "  'XPOS': 'FS',\n",
       "  'FEATS': '_',\n",
       "  'HEAD': '1',\n",
       "  'DEPREL': 'punct',\n",
       "  'DEPS': '_',\n",
       "  'MISC': '_'}]"
      ]
     },
     "execution_count": 45,
     "metadata": {},
     "output_type": "execute_result"
    }
   ],
   "source": [
    "sentence['tokens']"
   ]
  }
 ],
 "metadata": {
  "kernelspec": {
   "display_name": "Python 3",
   "language": "python",
   "name": "python3"
  },
  "language_info": {
   "codemirror_mode": {
    "name": "ipython",
    "version": 3
   },
   "file_extension": ".py",
   "mimetype": "text/x-python",
   "name": "python",
   "nbconvert_exporter": "python",
   "pygments_lexer": "ipython3",
   "version": "3.9.2"
  }
 },
 "nbformat": 4,
 "nbformat_minor": 5
}

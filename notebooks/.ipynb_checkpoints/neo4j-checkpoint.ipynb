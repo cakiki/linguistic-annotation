{
 "cells": [
  {
   "cell_type": "code",
   "execution_count": 1,
   "id": "5dcd08cf",
   "metadata": {},
   "outputs": [
    {
     "data": {
      "text/html": [
       "<style>.container { width:95% !important; }</style>"
      ],
      "text/plain": [
       "<IPython.core.display.HTML object>"
      ]
     },
     "metadata": {},
     "output_type": "display_data"
    }
   ],
   "source": [
    "from IPython.core.display import display, HTML, Image\n",
    "display(HTML(\"<style>.container { width:95% !important; }</style>\"))\n",
    "%config IPCompleter.use_jedi=False"
   ]
  },
  {
   "cell_type": "code",
   "execution_count": 2,
   "id": "63736d9b",
   "metadata": {},
   "outputs": [],
   "source": [
    "from py2neo import Graph, Node, Relationship\n",
    "import networkx as nx\n",
    "import requests\n",
    "import pandas as pd\n",
    "from itertools import chain"
   ]
  },
  {
   "cell_type": "markdown",
   "id": "4283ce1b",
   "metadata": {},
   "source": [
    "Run the following in the [neo4j console](http://localhost:7474/browser/) (password 1234) to delete everything\n",
    "```\n",
    "MATCH (n) DETACH DELETE n\n",
    "```"
   ]
  },
  {
   "cell_type": "code",
   "execution_count": 3,
   "id": "6353f23c",
   "metadata": {},
   "outputs": [],
   "source": [
    "graph = Graph(\"bolt://linguistic-annotation_neo4j_1:7687/data/db\", auth=(\"neo4j\", \"1234\"))"
   ]
  },
  {
   "cell_type": "code",
   "execution_count": 4,
   "id": "27f7bf3e",
   "metadata": {},
   "outputs": [],
   "source": [
    "# FIELDS = ['ID', 'FORM', 'LEMMA', 'UPOS', 'XPOS', 'FEATS', 'HEAD', 'DEPREL', 'DEPS', 'MISC']\n",
    "REPO = 'https://github.com/UniversalDependencies/UD_French-ParTUT' #TODO: Pick a repo at random that starts with UD\n",
    "TEST_CONLLU = 'https://raw.githubusercontent.com/UniversalDependencies/UD_French-ParTUT/master/fr_partut-ud-test.conllu'\n",
    "DEV_CONLLU = 'https://raw.githubusercontent.com/UniversalDependencies/UD_French-ParTUT/master/fr_partut-ud-dev.conllu'\n",
    "TRAIN_CONLLU = 'https://raw.githubusercontent.com/UniversalDependencies/UD_French-ParTUT/master/fr_partut-ud-train.conllu'"
   ]
  },
  {
   "cell_type": "code",
   "execution_count": 5,
   "id": "2321fb50",
   "metadata": {},
   "outputs": [
    {
     "name": "stdout",
     "output_type": "stream",
     "text": [
      "CPU times: user 188 ms, sys: 10.4 ms, total: 198 ms\n",
      "Wall time: 676 ms\n"
     ]
    }
   ],
   "source": [
    "%%time\n",
    "response = requests.get(TRAIN_CONLLU)\n",
    "data = response.text\n",
    "sentences = [sentence.split('\\n') for sentence in data.split('\\n\\n')[:-1]]\n",
    "fields = sentences[0].pop(0)\n",
    "fields = fields.split(' = ')[-1].split()\n",
    "\n",
    "sentences_data = [[e.split('\\t') for e in sentence if not e.startswith('#')] for sentence in sentences]\n",
    "sentences_metadata = [[e.split('# ')[-1] for e in sentence if e.startswith('#')] for sentence in sentences]\n",
    "sentences_metadata = [[e.split(' = ') for e in sentence] for sentence in sentences_metadata]\n",
    "\n",
    "data_dicts = [[{a:b for a,b in zip(fields, token)} for token in sentence] for sentence in sentences_data]\n",
    "# metadata_dicts = [dict(item) for item in sentences_metadata]\n",
    "\n",
    "dataset = [{'sentence_id': m[0][1], 'sentence': m[1][1], 'tokens': d} for d,m in zip(data_dicts, sentences_metadata)]"
   ]
  },
  {
   "cell_type": "code",
   "execution_count": 11,
   "id": "cc32f0ac",
   "metadata": {},
   "outputs": [],
   "source": [
    "sentence = dataset[0] # This needs to be turned into an edge list"
   ]
  },
  {
   "cell_type": "code",
   "execution_count": null,
   "id": "3beeb525",
   "metadata": {},
   "outputs": [],
   "source": []
  },
  {
   "cell_type": "code",
   "execution_count": 7,
   "id": "e4fee506",
   "metadata": {},
   "outputs": [
    {
     "data": {
      "text/plain": [
       "dict_keys(['sentence_id', 'sentence', 'tokens'])"
      ]
     },
     "execution_count": 7,
     "metadata": {},
     "output_type": "execute_result"
    }
   ],
   "source": [
    "sentence.keys()"
   ]
  },
  {
   "cell_type": "code",
   "execution_count": 8,
   "id": "ab62da52",
   "metadata": {},
   "outputs": [
    {
     "data": {
      "text/plain": [
       "'La distribution de la présente version de ce contrat ne crée aucune relation juridique entre les parties au contrat présenté ci-après et Creative Commons.'"
      ]
     },
     "execution_count": 8,
     "metadata": {},
     "output_type": "execute_result"
    }
   ],
   "source": [
    "sentence['sentence']"
   ]
  },
  {
   "cell_type": "code",
   "execution_count": 9,
   "id": "392a215f",
   "metadata": {},
   "outputs": [
    {
     "data": {
      "text/plain": [
       "'fr_partut-ud-3'"
      ]
     },
     "execution_count": 9,
     "metadata": {},
     "output_type": "execute_result"
    }
   ],
   "source": [
    "sentence['sentence_id']"
   ]
  },
  {
   "cell_type": "code",
   "execution_count": 10,
   "id": "ba793450",
   "metadata": {},
   "outputs": [
    {
     "data": {
      "text/plain": [
       "27"
      ]
     },
     "execution_count": 10,
     "metadata": {},
     "output_type": "execute_result"
    }
   ],
   "source": [
    "len(sentence['tokens'])"
   ]
  },
  {
   "cell_type": "markdown",
   "id": "baf62221",
   "metadata": {},
   "source": [
    "### Notes\n",
    "\n",
    "- Every token is a dictionary\n",
    "- Every token has an ID\n",
    "- Every token has a HEAD that refers to another token's (dict) ID\n",
    "- The linguistic root of the sentence has a HEAD of 0 (refers to the root node of the sentence and DEPREL value of 'root'."
   ]
  },
  {
   "cell_type": "code",
   "execution_count": 23,
   "id": "1d5bb8d6",
   "metadata": {},
   "outputs": [
    {
     "data": {
      "text/plain": [
       "[{'ID': '2',\n",
       "  'FORM': 'distribution',\n",
       "  'LEMMA': 'distribution',\n",
       "  'UPOS': 'NOUN',\n",
       "  'XPOS': 'S',\n",
       "  'FEATS': 'Gender=Fem|Number=Sing',\n",
       "  'HEAD': '11',\n",
       "  'DEPREL': 'nsubj',\n",
       "  'DEPS': '_',\n",
       "  'MISC': '_'},\n",
       " {'ID': '3',\n",
       "  'FORM': 'de',\n",
       "  'LEMMA': 'de',\n",
       "  'UPOS': 'ADP',\n",
       "  'XPOS': 'E',\n",
       "  'FEATS': '_',\n",
       "  'HEAD': '6',\n",
       "  'DEPREL': 'case',\n",
       "  'DEPS': '_',\n",
       "  'MISC': '_'}]"
      ]
     },
     "execution_count": 23,
     "metadata": {},
     "output_type": "execute_result"
    }
   ],
   "source": [
    "tokens = sentence['tokens']\n",
    "tokens[1:3]"
   ]
  },
  {
   "cell_type": "code",
   "execution_count": 24,
   "id": "7ed8fd81",
   "metadata": {},
   "outputs": [],
   "source": [
    "def get_root_token(tokens):\n",
    "    return [t for t in tokens if t['HEAD']=='0'][0]\n",
    "\n",
    "def turn_feats_to_dict(feats_value):\n",
    "    if feats_value == '_':\n",
    "        return {}\n",
    "    else:\n",
    "        to_return = feats_value.split('|')\n",
    "        to_return = [i.split('=') for i in to_return]\n",
    "        to_return = {k:v for k,v in to_return}\n",
    "        return to_return"
   ]
  },
  {
   "cell_type": "code",
   "execution_count": 28,
   "id": "b5b0af92",
   "metadata": {},
   "outputs": [
    {
     "data": {
      "text/plain": [
       "{'ID': '11',\n",
       " 'FORM': 'crée',\n",
       " 'LEMMA': 'créer',\n",
       " 'UPOS': 'VERB',\n",
       " 'XPOS': 'V',\n",
       " 'FEATS': 'Mood=Ind|Number=Sing|Person=3|Tense=Pres|VerbForm=Fin',\n",
       " 'HEAD': '0',\n",
       " 'DEPREL': 'root',\n",
       " 'DEPS': '_',\n",
       " 'MISC': '_'}"
      ]
     },
     "execution_count": 28,
     "metadata": {},
     "output_type": "execute_result"
    }
   ],
   "source": [
    "root = get_root_token(tokens)\n",
    "root"
   ]
  },
  {
   "cell_type": "code",
   "execution_count": 29,
   "id": "2231eb37",
   "metadata": {},
   "outputs": [
    {
     "data": {
      "text/plain": [
       "{'Mood': 'Ind',\n",
       " 'Number': 'Sing',\n",
       " 'Person': '3',\n",
       " 'Tense': 'Pres',\n",
       " 'VerbForm': 'Fin'}"
      ]
     },
     "execution_count": 29,
     "metadata": {},
     "output_type": "execute_result"
    }
   ],
   "source": [
    "turn_feats_to_dict(root['FEATS'])"
   ]
  }
 ],
 "metadata": {
  "kernelspec": {
   "display_name": "Python 3",
   "language": "python",
   "name": "python3"
  },
  "language_info": {
   "codemirror_mode": {
    "name": "ipython",
    "version": 3
   },
   "file_extension": ".py",
   "mimetype": "text/x-python",
   "name": "python",
   "nbconvert_exporter": "python",
   "pygments_lexer": "ipython3",
   "version": "3.9.2"
  }
 },
 "nbformat": 4,
 "nbformat_minor": 5
}

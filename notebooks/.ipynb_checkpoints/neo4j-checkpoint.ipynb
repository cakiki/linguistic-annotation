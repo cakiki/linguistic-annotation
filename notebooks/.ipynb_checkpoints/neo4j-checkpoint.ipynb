{
 "cells": [
  {
   "cell_type": "code",
   "execution_count": 1,
   "id": "5dcd08cf",
   "metadata": {},
   "outputs": [
    {
     "data": {
      "text/html": [
       "<style>.container { width:95% !important; }</style>"
      ],
      "text/plain": [
       "<IPython.core.display.HTML object>"
      ]
     },
     "metadata": {},
     "output_type": "display_data"
    }
   ],
   "source": [
    "from IPython.core.display import display, HTML, Image\n",
    "display(HTML(\"<style>.container { width:95% !important; }</style>\"))\n",
    "%config IPCompleter.use_jedi=False"
   ]
  },
  {
   "cell_type": "code",
   "execution_count": 2,
   "id": "63736d9b",
   "metadata": {},
   "outputs": [],
   "source": [
    "from py2neo import Graph, Node, Relationship\n",
    "import networkx as nx\n",
    "import requests\n",
    "import pandas as pd\n",
    "from itertools import chain, product"
   ]
  },
  {
   "cell_type": "code",
   "execution_count": 14,
   "id": "9605cd47",
   "metadata": {},
   "outputs": [],
   "source": [
    "def get_root_token(tokens):\n",
    "    root = [t for t in tokens if t['HEAD']=='0'][0]\n",
    "    return root['ID']\n",
    "\n",
    "def get_token_by_id(tokens, token_id):\n",
    "    return [t for t in tokens if t['ID']==token_id][0]\n",
    "\n",
    "def get_children_ids_of_id(tokens, token_id):\n",
    "    return [t['ID'] for t in tokens if t['HEAD']==token_id]\n",
    "    \n",
    "\n",
    "def turn_feats_to_dict(feats_value):\n",
    "    if feats_value == '_':\n",
    "        return {}\n",
    "    else:\n",
    "        to_return = feats_value.split('|')\n",
    "        to_return = [i.split('=') for i in to_return]\n",
    "        to_return = {k:v for k,v in to_return}\n",
    "        return to_return"
   ]
  },
  {
   "cell_type": "markdown",
   "id": "356c510e",
   "metadata": {},
   "source": [
    "Run the following in the [neo4j console](http://localhost:7474/browser/) (password 1234) to delete everything\n",
    "```\n",
    "MATCH (n) DETACH DELETE n\n",
    "```"
   ]
  },
  {
   "cell_type": "code",
   "execution_count": 4,
   "id": "6353f23c",
   "metadata": {},
   "outputs": [],
   "source": [
    "graph = Graph(\"bolt://linguistic-annotation_neo4j_1:7687/data/db\", auth=(\"neo4j\", \"1234\"))"
   ]
  },
  {
   "cell_type": "code",
   "execution_count": 5,
   "id": "27f7bf3e",
   "metadata": {},
   "outputs": [],
   "source": [
    "# FIELDS = ['ID', 'FORM', 'LEMMA', 'UPOS', 'XPOS', 'FEATS', 'HEAD', 'DEPREL', 'DEPS', 'MISC']\n",
    "REPO = 'https://github.com/UniversalDependencies/UD_French-ParTUT' #TODO: Pick a repo at random that starts with UD\n",
    "TEST_CONLLU = 'https://raw.githubusercontent.com/UniversalDependencies/UD_French-ParTUT/master/fr_partut-ud-test.conllu'\n",
    "DEV_CONLLU = 'https://raw.githubusercontent.com/UniversalDependencies/UD_French-ParTUT/master/fr_partut-ud-dev.conllu'\n",
    "TRAIN_CONLLU = 'https://raw.githubusercontent.com/UniversalDependencies/UD_French-ParTUT/master/fr_partut-ud-train.conllu'"
   ]
  },
  {
   "cell_type": "code",
   "execution_count": 6,
   "id": "2321fb50",
   "metadata": {},
   "outputs": [
    {
     "name": "stdout",
     "output_type": "stream",
     "text": [
      "CPU times: user 190 ms, sys: 9.58 ms, total: 200 ms\n",
      "Wall time: 290 ms\n"
     ]
    }
   ],
   "source": [
    "%%time\n",
    "response = requests.get(TRAIN_CONLLU)\n",
    "data = response.text\n",
    "sentences = [sentence.split('\\n') for sentence in data.split('\\n\\n')[:-1]]\n",
    "fields = sentences[0].pop(0)\n",
    "fields = fields.split(' = ')[-1].split()\n",
    "\n",
    "sentences_data = [[e.split('\\t') for e in sentence if not e.startswith('#')] for sentence in sentences]\n",
    "sentences_metadata = [[e.split('# ')[-1] for e in sentence if e.startswith('#')] for sentence in sentences]\n",
    "sentences_metadata = [[e.split(' = ') for e in sentence] for sentence in sentences_metadata]\n",
    "\n",
    "data_dicts = [[{a:b for a,b in zip(fields, token)} for token in sentence] for sentence in sentences_data]\n",
    "# metadata_dicts = [dict(item) for item in sentences_metadata]\n",
    "\n",
    "dataset = [{'sentence_id': m[0][1], 'sentence': m[1][1], 'tokens': d} for d,m in zip(data_dicts, sentences_metadata)]"
   ]
  },
  {
   "cell_type": "code",
   "execution_count": 7,
   "id": "cc32f0ac",
   "metadata": {},
   "outputs": [],
   "source": [
    "sentence = dataset[0] "
   ]
  },
  {
   "cell_type": "code",
   "execution_count": 8,
   "id": "e4fee506",
   "metadata": {},
   "outputs": [
    {
     "data": {
      "text/plain": [
       "dict_keys(['sentence_id', 'sentence', 'tokens'])"
      ]
     },
     "execution_count": 8,
     "metadata": {},
     "output_type": "execute_result"
    }
   ],
   "source": [
    "sentence.keys()"
   ]
  },
  {
   "cell_type": "code",
   "execution_count": 9,
   "id": "ab62da52",
   "metadata": {},
   "outputs": [
    {
     "data": {
      "text/plain": [
       "'La distribution de la présente version de ce contrat ne crée aucune relation juridique entre les parties au contrat présenté ci-après et Creative Commons.'"
      ]
     },
     "execution_count": 9,
     "metadata": {},
     "output_type": "execute_result"
    }
   ],
   "source": [
    "sentence['sentence']"
   ]
  },
  {
   "cell_type": "code",
   "execution_count": 10,
   "id": "392a215f",
   "metadata": {},
   "outputs": [
    {
     "data": {
      "text/plain": [
       "'fr_partut-ud-3'"
      ]
     },
     "execution_count": 10,
     "metadata": {},
     "output_type": "execute_result"
    }
   ],
   "source": [
    "sentence['sentence_id']"
   ]
  },
  {
   "cell_type": "code",
   "execution_count": 11,
   "id": "ba793450",
   "metadata": {},
   "outputs": [
    {
     "data": {
      "text/plain": [
       "27"
      ]
     },
     "execution_count": 11,
     "metadata": {},
     "output_type": "execute_result"
    }
   ],
   "source": [
    "len(sentence['tokens'])"
   ]
  },
  {
   "cell_type": "code",
   "execution_count": 12,
   "id": "0051d8fe",
   "metadata": {},
   "outputs": [],
   "source": [
    "tokens = sentence['tokens']"
   ]
  },
  {
   "cell_type": "code",
   "execution_count": 15,
   "id": "981707a8",
   "metadata": {},
   "outputs": [],
   "source": [
    "depth = 0\n",
    "i = get_root_token(tokens)\n",
    "ids_at_current_depth = [i]\n",
    "edge_list = []\n",
    "\n",
    "while ids_at_current_depth:\n",
    "    descendants = []\n",
    "    for i in ids_at_current_depth:\n",
    "        children = get_children_ids_of_id(tokens, i)\n",
    "        edges = list(product([i], children))\n",
    "        edge_list.extend(edges)\n",
    "        descendants.extend(children)\n",
    "    ids_at_current_depth = descendants"
   ]
  },
  {
   "cell_type": "code",
   "execution_count": 16,
   "id": "b4f117e6",
   "metadata": {},
   "outputs": [
    {
     "name": "stdout",
     "output_type": "stream",
     "text": [
      "[('11', '2'), ('11', '10'), ('11', '13'), ('11', '26'), ('2', '1'), ('2', '6'), ('13', '12'), ('13', '14'), ('13', '17'), ('6', '3'), ('6', '4'), ('6', '5'), ('6', '9'), ('17', '15'), ('17', '16'), ('17', '20'), ('17', '24'), ('9', '7'), ('9', '8'), ('20', '18'), ('20', '19'), ('20', '21'), ('24', '23'), ('24', '25'), ('21', '22')]\n"
     ]
    }
   ],
   "source": [
    "print(edge_list)"
   ]
  },
  {
   "cell_type": "code",
   "execution_count": 18,
   "id": "dbd00695",
   "metadata": {},
   "outputs": [],
   "source": [
    "for a,b in edge_list:\n",
    "    token_a = get_token_by_id(tokens, a)\n",
    "    token_a['name'] = token_a['FORM']\n",
    "    token_b = get_token_by_id(tokens, b)\n",
    "    token_b['name'] = token_b['FORM']\n",
    "    \n",
    "    test_a = graph.nodes.match(\"Token\",  **token_a).first()\n",
    "    test_b = graph.nodes.match(\"Token\",  **token_b).first()\n",
    "    \n",
    "    n_a = Node('Token', **token_a) if not test_a else test_a\n",
    "    n_b = Node('Token', **token_b) if not test_b else test_b\n",
    "    rel = Relationship(n_a, 'IS_HEAD_OF', n_b)\n",
    "    graph.create(n_a)\n",
    "    graph.create(n_b)\n",
    "    graph.create(rel)"
   ]
  }
 ],
 "metadata": {
  "kernelspec": {
   "display_name": "Python 3",
   "language": "python",
   "name": "python3"
  },
  "language_info": {
   "codemirror_mode": {
    "name": "ipython",
    "version": 3
   },
   "file_extension": ".py",
   "mimetype": "text/x-python",
   "name": "python",
   "nbconvert_exporter": "python",
   "pygments_lexer": "ipython3",
   "version": "3.9.2"
  }
 },
 "nbformat": 4,
 "nbformat_minor": 5
}

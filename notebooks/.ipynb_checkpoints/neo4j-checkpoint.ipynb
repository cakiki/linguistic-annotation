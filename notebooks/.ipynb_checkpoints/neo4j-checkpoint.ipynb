{
 "cells": [
  {
   "cell_type": "code",
   "execution_count": 1,
   "id": "5dcd08cf",
   "metadata": {},
   "outputs": [
    {
     "data": {
      "text/html": [
       "<style>.container { width:95% !important; }</style>"
      ],
      "text/plain": [
       "<IPython.core.display.HTML object>"
      ]
     },
     "metadata": {},
     "output_type": "display_data"
    }
   ],
   "source": [
    "from IPython.core.display import display, HTML, Image\n",
    "display(HTML(\"<style>.container { width:95% !important; }</style>\"))\n",
    "%config IPCompleter.use_jedi=False"
   ]
  },
  {
   "cell_type": "code",
   "execution_count": 2,
   "id": "63736d9b",
   "metadata": {},
   "outputs": [],
   "source": [
    "from py2neo import Graph, Node, Relationship\n",
    "import networkx as nx\n",
    "import requests\n",
    "import pandas as pd\n",
    "from itertools import chain"
   ]
  },
  {
   "cell_type": "code",
   "execution_count": 3,
   "id": "6353f23c",
   "metadata": {},
   "outputs": [],
   "source": [
    "graph = Graph(\"bolt://linguistic-annotation_neo4j_1:7687/data/db\", auth=(\"neo4j\", \"1234\"))"
   ]
  },
  {
   "cell_type": "code",
   "execution_count": 4,
   "id": "27f7bf3e",
   "metadata": {},
   "outputs": [],
   "source": [
    "# FIELDS = ['ID', 'FORM', 'LEMMA', 'UPOS', 'XPOS', 'FEATS', 'HEAD', 'DEPREL', 'DEPS', 'MISC']\n",
    "REPO = 'https://github.com/UniversalDependencies/UD_French-ParTUT' #TODO: Pick a repo at random that starts with UD\n",
    "TEST_CONLLU = 'https://raw.githubusercontent.com/UniversalDependencies/UD_French-ParTUT/master/fr_partut-ud-test.conllu'\n",
    "DEV_CONLLU = 'https://raw.githubusercontent.com/UniversalDependencies/UD_French-ParTUT/master/fr_partut-ud-dev.conllu'\n",
    "TRAIN_CONLLU = 'https://raw.githubusercontent.com/UniversalDependencies/UD_French-ParTUT/master/fr_partut-ud-train.conllu'"
   ]
  },
  {
   "cell_type": "code",
   "execution_count": 38,
   "id": "2321fb50",
   "metadata": {},
   "outputs": [
    {
     "name": "stdout",
     "output_type": "stream",
     "text": [
      "CPU times: user 138 ms, sys: 1.75 ms, total: 140 ms\n",
      "Wall time: 232 ms\n"
     ]
    }
   ],
   "source": [
    "%%time\n",
    "response = requests.get(TRAIN_CONLLU)\n",
    "data = response.text\n",
    "sentences = [sentence.split('\\n') for sentence in data.split('\\n\\n')[:-1]]\n",
    "fields = sentences[0].pop(0)\n",
    "fields = fields.split(' = ')[-1].split()\n",
    "\n",
    "sentences_data = [[e.split('\\t') for e in sentence if not e.startswith('#')] for sentence in sentences]\n",
    "sentences_metadata = [[e.split('# ')[-1] for e in sentence if e.startswith('#')] for sentence in sentences]\n",
    "sentences_metadata = [[e.split(' = ') for e in sentence] for sentence in sentences_metadata]\n",
    "\n",
    "data_dicts = [[{a:b for a,b in zip(fields, token)} for token in sentence] for sentence in sentences_data]\n",
    "# metadata_dicts = [dict(item) for item in sentences_metadata]\n",
    "\n",
    "dataset = [{'sentence_id': m[0][1], 'sentence': m[1][1], 'tokens': d} for d,m in zip(data_dicts, sentences_metadata)]"
   ]
  },
  {
   "cell_type": "code",
   "execution_count": 40,
   "id": "b39873d3",
   "metadata": {},
   "outputs": [],
   "source": [
    "sentence = dataset[0]"
   ]
  },
  {
   "cell_type": "code",
   "execution_count": 41,
   "id": "37f772cb",
   "metadata": {},
   "outputs": [
    {
     "data": {
      "text/plain": [
       "dict_keys(['sentence_id', 'sentence', 'tokens'])"
      ]
     },
     "execution_count": 41,
     "metadata": {},
     "output_type": "execute_result"
    }
   ],
   "source": [
    "sentence.keys()"
   ]
  },
  {
   "cell_type": "code",
   "execution_count": 42,
   "id": "7b5fbc02",
   "metadata": {},
   "outputs": [
    {
     "data": {
      "text/plain": [
       "'La distribution de la présente version de ce contrat ne crée aucune relation juridique entre les parties au contrat présenté ci-après et Creative Commons.'"
      ]
     },
     "execution_count": 42,
     "metadata": {},
     "output_type": "execute_result"
    }
   ],
   "source": [
    "sentence['sentence']"
   ]
  },
  {
   "cell_type": "code",
   "execution_count": 43,
   "id": "05a856cd",
   "metadata": {},
   "outputs": [
    {
     "data": {
      "text/plain": [
       "'fr_partut-ud-3'"
      ]
     },
     "execution_count": 43,
     "metadata": {},
     "output_type": "execute_result"
    }
   ],
   "source": [
    "sentence['sentence_id']"
   ]
  },
  {
   "cell_type": "code",
   "execution_count": 44,
   "id": "a5448243",
   "metadata": {},
   "outputs": [
    {
     "data": {
      "text/plain": [
       "27"
      ]
     },
     "execution_count": 44,
     "metadata": {},
     "output_type": "execute_result"
    }
   ],
   "source": [
    "len(sentence['tokens'])"
   ]
  },
  {
   "cell_type": "code",
   "execution_count": 46,
   "id": "bc59bbc8",
   "metadata": {
    "scrolled": false
   },
   "outputs": [
    {
     "data": {
      "text/plain": [
       "[{'ID': '1',\n",
       "  'FORM': 'La',\n",
       "  'LEMMA': 'le',\n",
       "  'UPOS': 'DET',\n",
       "  'XPOS': 'RD',\n",
       "  'FEATS': 'Definite=Def|Gender=Fem|Number=Sing|PronType=Art',\n",
       "  'HEAD': '2',\n",
       "  'DEPREL': 'det',\n",
       "  'DEPS': '_',\n",
       "  'MISC': '_'},\n",
       " {'ID': '2',\n",
       "  'FORM': 'distribution',\n",
       "  'LEMMA': 'distribution',\n",
       "  'UPOS': 'NOUN',\n",
       "  'XPOS': 'S',\n",
       "  'FEATS': 'Gender=Fem|Number=Sing',\n",
       "  'HEAD': '11',\n",
       "  'DEPREL': 'nsubj',\n",
       "  'DEPS': '_',\n",
       "  'MISC': '_'},\n",
       " {'ID': '3',\n",
       "  'FORM': 'de',\n",
       "  'LEMMA': 'de',\n",
       "  'UPOS': 'ADP',\n",
       "  'XPOS': 'E',\n",
       "  'FEATS': '_',\n",
       "  'HEAD': '6',\n",
       "  'DEPREL': 'case',\n",
       "  'DEPS': '_',\n",
       "  'MISC': '_'},\n",
       " {'ID': '4',\n",
       "  'FORM': 'la',\n",
       "  'LEMMA': 'le',\n",
       "  'UPOS': 'DET',\n",
       "  'XPOS': 'RD',\n",
       "  'FEATS': 'Definite=Def|Gender=Fem|Number=Sing|PronType=Art',\n",
       "  'HEAD': '6',\n",
       "  'DEPREL': 'det',\n",
       "  'DEPS': '_',\n",
       "  'MISC': '_'},\n",
       " {'ID': '5',\n",
       "  'FORM': 'présente',\n",
       "  'LEMMA': 'présent',\n",
       "  'UPOS': 'ADJ',\n",
       "  'XPOS': 'A',\n",
       "  'FEATS': 'Gender=Fem|Number=Sing',\n",
       "  'HEAD': '6',\n",
       "  'DEPREL': 'amod',\n",
       "  'DEPS': '_',\n",
       "  'MISC': '_'},\n",
       " {'ID': '6',\n",
       "  'FORM': 'version',\n",
       "  'LEMMA': 'version',\n",
       "  'UPOS': 'NOUN',\n",
       "  'XPOS': 'S',\n",
       "  'FEATS': 'Gender=Fem|Number=Sing',\n",
       "  'HEAD': '2',\n",
       "  'DEPREL': 'nmod',\n",
       "  'DEPS': '_',\n",
       "  'MISC': '_'},\n",
       " {'ID': '7',\n",
       "  'FORM': 'de',\n",
       "  'LEMMA': 'de',\n",
       "  'UPOS': 'ADP',\n",
       "  'XPOS': 'E',\n",
       "  'FEATS': '_',\n",
       "  'HEAD': '9',\n",
       "  'DEPREL': 'case',\n",
       "  'DEPS': '_',\n",
       "  'MISC': '_'},\n",
       " {'ID': '8',\n",
       "  'FORM': 'ce',\n",
       "  'LEMMA': 'ce',\n",
       "  'UPOS': 'DET',\n",
       "  'XPOS': 'DD',\n",
       "  'FEATS': 'Gender=Masc|Number=Sing|PronType=Dem',\n",
       "  'HEAD': '9',\n",
       "  'DEPREL': 'det',\n",
       "  'DEPS': '_',\n",
       "  'MISC': '_'},\n",
       " {'ID': '9',\n",
       "  'FORM': 'contrat',\n",
       "  'LEMMA': 'contrat',\n",
       "  'UPOS': 'NOUN',\n",
       "  'XPOS': 'S',\n",
       "  'FEATS': 'Gender=Masc|Number=Sing',\n",
       "  'HEAD': '6',\n",
       "  'DEPREL': 'nmod',\n",
       "  'DEPS': '_',\n",
       "  'MISC': '_'},\n",
       " {'ID': '10',\n",
       "  'FORM': 'ne',\n",
       "  'LEMMA': 'ne',\n",
       "  'UPOS': 'PART',\n",
       "  'XPOS': 'PART',\n",
       "  'FEATS': 'Polarity=Neg',\n",
       "  'HEAD': '11',\n",
       "  'DEPREL': 'advmod',\n",
       "  'DEPS': '_',\n",
       "  'MISC': '_'},\n",
       " {'ID': '11',\n",
       "  'FORM': 'crée',\n",
       "  'LEMMA': 'créer',\n",
       "  'UPOS': 'VERB',\n",
       "  'XPOS': 'V',\n",
       "  'FEATS': 'Mood=Ind|Number=Sing|Person=3|Tense=Pres|VerbForm=Fin',\n",
       "  'HEAD': '0',\n",
       "  'DEPREL': 'root',\n",
       "  'DEPS': '_',\n",
       "  'MISC': '_'},\n",
       " {'ID': '12',\n",
       "  'FORM': 'aucune',\n",
       "  'LEMMA': 'aucun',\n",
       "  'UPOS': 'DET',\n",
       "  'XPOS': 'DI',\n",
       "  'FEATS': 'Gender=Fem|Number=Sing|PronType=Ind',\n",
       "  'HEAD': '13',\n",
       "  'DEPREL': 'det',\n",
       "  'DEPS': '_',\n",
       "  'MISC': '_'},\n",
       " {'ID': '13',\n",
       "  'FORM': 'relation',\n",
       "  'LEMMA': 'relation',\n",
       "  'UPOS': 'NOUN',\n",
       "  'XPOS': 'S',\n",
       "  'FEATS': 'Gender=Fem|Number=Sing',\n",
       "  'HEAD': '11',\n",
       "  'DEPREL': 'obj',\n",
       "  'DEPS': '_',\n",
       "  'MISC': '_'},\n",
       " {'ID': '14',\n",
       "  'FORM': 'juridique',\n",
       "  'LEMMA': 'juridique',\n",
       "  'UPOS': 'ADJ',\n",
       "  'XPOS': 'A',\n",
       "  'FEATS': 'Number=Sing',\n",
       "  'HEAD': '13',\n",
       "  'DEPREL': 'amod',\n",
       "  'DEPS': '_',\n",
       "  'MISC': '_'},\n",
       " {'ID': '15',\n",
       "  'FORM': 'entre',\n",
       "  'LEMMA': 'entre',\n",
       "  'UPOS': 'ADP',\n",
       "  'XPOS': 'E',\n",
       "  'FEATS': '_',\n",
       "  'HEAD': '17',\n",
       "  'DEPREL': 'case',\n",
       "  'DEPS': '_',\n",
       "  'MISC': '_'},\n",
       " {'ID': '16',\n",
       "  'FORM': 'les',\n",
       "  'LEMMA': 'le',\n",
       "  'UPOS': 'DET',\n",
       "  'XPOS': 'RD',\n",
       "  'FEATS': 'Definite=Def|Number=Plur|PronType=Art',\n",
       "  'HEAD': '17',\n",
       "  'DEPREL': 'det',\n",
       "  'DEPS': '_',\n",
       "  'MISC': '_'},\n",
       " {'ID': '17',\n",
       "  'FORM': 'parties',\n",
       "  'LEMMA': 'partie',\n",
       "  'UPOS': 'NOUN',\n",
       "  'XPOS': 'S',\n",
       "  'FEATS': 'Gender=Fem|Number=Plur',\n",
       "  'HEAD': '13',\n",
       "  'DEPREL': 'nmod',\n",
       "  'DEPS': '_',\n",
       "  'MISC': '_'},\n",
       " {'ID': '18-19',\n",
       "  'FORM': 'au',\n",
       "  'LEMMA': '_',\n",
       "  'UPOS': '_',\n",
       "  'XPOS': '_',\n",
       "  'FEATS': '_',\n",
       "  'HEAD': '_',\n",
       "  'DEPREL': '_',\n",
       "  'DEPS': '_',\n",
       "  'MISC': '_'},\n",
       " {'ID': '18',\n",
       "  'FORM': 'à',\n",
       "  'LEMMA': 'à',\n",
       "  'UPOS': 'ADP',\n",
       "  'XPOS': 'E',\n",
       "  'FEATS': '_',\n",
       "  'HEAD': '20',\n",
       "  'DEPREL': 'case',\n",
       "  'DEPS': '_',\n",
       "  'MISC': '_'},\n",
       " {'ID': '19',\n",
       "  'FORM': 'le',\n",
       "  'LEMMA': 'le',\n",
       "  'UPOS': 'DET',\n",
       "  'XPOS': 'RD',\n",
       "  'FEATS': 'Definite=Def|Gender=Masc|Number=Sing|PronType=Art',\n",
       "  'HEAD': '20',\n",
       "  'DEPREL': 'det',\n",
       "  'DEPS': '_',\n",
       "  'MISC': '_'},\n",
       " {'ID': '20',\n",
       "  'FORM': 'contrat',\n",
       "  'LEMMA': 'contrat',\n",
       "  'UPOS': 'NOUN',\n",
       "  'XPOS': 'S',\n",
       "  'FEATS': 'Gender=Masc|Number=Sing',\n",
       "  'HEAD': '17',\n",
       "  'DEPREL': 'nmod',\n",
       "  'DEPS': '_',\n",
       "  'MISC': '_'},\n",
       " {'ID': '21',\n",
       "  'FORM': 'présenté',\n",
       "  'LEMMA': 'présenter',\n",
       "  'UPOS': 'VERB',\n",
       "  'XPOS': 'V',\n",
       "  'FEATS': 'Gender=Masc|Number=Sing|Tense=Past|VerbForm=Part',\n",
       "  'HEAD': '20',\n",
       "  'DEPREL': 'acl',\n",
       "  'DEPS': '_',\n",
       "  'MISC': '_'},\n",
       " {'ID': '22',\n",
       "  'FORM': 'ci-après',\n",
       "  'LEMMA': 'ci-après',\n",
       "  'UPOS': 'ADV',\n",
       "  'XPOS': 'B',\n",
       "  'FEATS': '_',\n",
       "  'HEAD': '21',\n",
       "  'DEPREL': 'advmod',\n",
       "  'DEPS': '_',\n",
       "  'MISC': '_'},\n",
       " {'ID': '23',\n",
       "  'FORM': 'et',\n",
       "  'LEMMA': 'et',\n",
       "  'UPOS': 'CCONJ',\n",
       "  'XPOS': 'CC',\n",
       "  'FEATS': '_',\n",
       "  'HEAD': '24',\n",
       "  'DEPREL': 'cc',\n",
       "  'DEPS': '_',\n",
       "  'MISC': '_'},\n",
       " {'ID': '24',\n",
       "  'FORM': 'Creative',\n",
       "  'LEMMA': 'Creative',\n",
       "  'UPOS': 'PROPN',\n",
       "  'XPOS': 'SP',\n",
       "  'FEATS': '_',\n",
       "  'HEAD': '17',\n",
       "  'DEPREL': 'conj',\n",
       "  'DEPS': '_',\n",
       "  'MISC': '_'},\n",
       " {'ID': '25',\n",
       "  'FORM': 'Commons',\n",
       "  'LEMMA': 'Commons',\n",
       "  'UPOS': 'PROPN',\n",
       "  'XPOS': 'SP',\n",
       "  'FEATS': '_',\n",
       "  'HEAD': '24',\n",
       "  'DEPREL': 'flat:name',\n",
       "  'DEPS': '_',\n",
       "  'MISC': 'SpaceAfter=No'},\n",
       " {'ID': '26',\n",
       "  'FORM': '.',\n",
       "  'LEMMA': '.',\n",
       "  'UPOS': 'PUNCT',\n",
       "  'XPOS': 'FS',\n",
       "  'FEATS': '_',\n",
       "  'HEAD': '11',\n",
       "  'DEPREL': 'punct',\n",
       "  'DEPS': '_',\n",
       "  'MISC': '_'}]"
      ]
     },
     "execution_count": 46,
     "metadata": {},
     "output_type": "execute_result"
    }
   ],
   "source": [
    "sentence['tokens']"
   ]
  }
 ],
 "metadata": {
  "kernelspec": {
   "display_name": "Python 3",
   "language": "python",
   "name": "python3"
  },
  "language_info": {
   "codemirror_mode": {
    "name": "ipython",
    "version": 3
   },
   "file_extension": ".py",
   "mimetype": "text/x-python",
   "name": "python",
   "nbconvert_exporter": "python",
   "pygments_lexer": "ipython3",
   "version": "3.9.2"
  }
 },
 "nbformat": 4,
 "nbformat_minor": 5
}
